{
 "cells": [
  {
   "cell_type": "code",
   "execution_count": 86,
   "metadata": {},
   "outputs": [],
   "source": [
    "import pandas as pd\n",
    "import seaborn as sns\n",
    "import matplotlib.pyplot as plt\n",
    "import scipy.stats\n",
    "from sklearn.model_selection import train_test_split\n",
    "from sklearn.linear_model import LinearRegression\n",
    "import numpy as np"
   ]
  },
  {
   "cell_type": "code",
   "execution_count": 87,
   "metadata": {},
   "outputs": [],
   "source": [
    "cars= pd.read_csv('Cars93.csv')"
   ]
  },
  {
   "cell_type": "code",
   "execution_count": 6,
   "metadata": {},
   "outputs": [
    {
     "data": {
      "text/html": [
       "<div>\n",
       "<style scoped>\n",
       "    .dataframe tbody tr th:only-of-type {\n",
       "        vertical-align: middle;\n",
       "    }\n",
       "\n",
       "    .dataframe tbody tr th {\n",
       "        vertical-align: top;\n",
       "    }\n",
       "\n",
       "    .dataframe thead th {\n",
       "        text-align: right;\n",
       "    }\n",
       "</style>\n",
       "<table border=\"1\" class=\"dataframe\">\n",
       "  <thead>\n",
       "    <tr style=\"text-align: right;\">\n",
       "      <th></th>\n",
       "      <th>Weight</th>\n",
       "      <th>MPG.highway</th>\n",
       "    </tr>\n",
       "  </thead>\n",
       "  <tbody>\n",
       "    <tr>\n",
       "      <th>Weight</th>\n",
       "      <td>1.000000</td>\n",
       "      <td>-0.810658</td>\n",
       "    </tr>\n",
       "    <tr>\n",
       "      <th>MPG.highway</th>\n",
       "      <td>-0.810658</td>\n",
       "      <td>1.000000</td>\n",
       "    </tr>\n",
       "  </tbody>\n",
       "</table>\n",
       "</div>"
      ],
      "text/plain": [
       "               Weight  MPG.highway\n",
       "Weight       1.000000    -0.810658\n",
       "MPG.highway -0.810658     1.000000"
      ]
     },
     "execution_count": 6,
     "metadata": {},
     "output_type": "execute_result"
    }
   ],
   "source": [
    "cars[['Weight', 'MPG.highway']].corr()"
   ]
  },
  {
   "cell_type": "code",
   "execution_count": 11,
   "metadata": {},
   "outputs": [
    {
     "data": {
      "image/png": "[encoded data removed]",
      "text/plain": [
       "<Figure size 432x288 with 1 Axes>"
      ]
     },
     "metadata": {},
     "output_type": "display_data"
    }
   ],
   "source": [
    "sns.set_style('whitegrid') #grid\n",
    "ax = cars.plot(title = 'Weight of Vehicles vs MPG', kind='scatter', x='Weight', y='MPG.highway') #plot\n",
    "ax.set_xlabel('Weight') #x label\n",
    "ax.set_ylabel('MPG(Highway)') #y label\n",
    "x = cars['Weight'].to_numpy() #x value\n",
    "y = cars['MPG.highway'].to_numpy() #y value\n",
    "slope, intercept, r, p, stderr = scipy.stats.linregress(x,y) #calculate linear regression\n",
    "line = f'Slope: {slope:.2f}\\nIntercept: {intercept:.2f}\\nCorrelation coefficient: r={r:.2f}' #Display factors\n",
    "ax.plot(x, intercept + slope * x, label=line, color='red') #add slope line\n",
    "ax.legend(facecolor='white') #set up legend\n",
    "plt.show() #show plot"
   ]
  },
  {
   "cell_type": "code",
   "execution_count": 88,
   "metadata": {},
   "outputs": [],
   "source": [
    "cars_multi = cars.copy()"
   ]
  },
  {
   "cell_type": "code",
   "execution_count": 13,
   "metadata": {},
   "outputs": [
    {
     "name": "stdout",
     "output_type": "stream",
     "text": [
      "<class 'pandas.core.frame.DataFrame'>\n",
      "RangeIndex: 93 entries, 0 to 92\n",
      "Data columns (total 28 columns):\n",
      " #   Column              Non-Null Count  Dtype  \n",
      "---  ------              --------------  -----  \n",
      " 0   Unnamed: 0          93 non-null     int64  \n",
      " 1   Manufacturer        93 non-null     object \n",
      " 2   Model               93 non-null     object \n",
      " 3   Type                93 non-null     object \n",
      " 4   Min.Price           93 non-null     float64\n",
      " 5   Price               93 non-null     float64\n",
      " 6   Max.Price           93 non-null     float64\n",
      " 7   MPG.city            93 non-null     int64  \n",
      " 8   MPG.highway         93 non-null     int64  \n",
      " 9   AirBags             93 non-null     object \n",
      " 10  DriveTrain          93 non-null     object \n",
      " 11  Cylinders           93 non-null     object \n",
      " 12  EngineSize          93 non-null     float64\n",
      " 13  Horsepower          93 non-null     int64  \n",
      " 14  RPM                 93 non-null     int64  \n",
      " 15  Rev.per.mile        93 non-null     int64  \n",
      " 16  Man.trans.avail     93 non-null     object \n",
      " 17  Fuel.tank.capacity  93 non-null     float64\n",
      " 18  Passengers          93 non-null     int64  \n",
      " 19  Length              93 non-null     int64  \n",
      " 20  Wheelbase           93 non-null     int64  \n",
      " 21  Width               93 non-null     int64  \n",
      " 22  Turn.circle         93 non-null     int64  \n",
      " 23  Rear.seat.room      91 non-null     float64\n",
      " 24  Luggage.room        82 non-null     float64\n",
      " 25  Weight              93 non-null     int64  \n",
      " 26  Origin              93 non-null     object \n",
      " 27  Make                93 non-null     object \n",
      "dtypes: float64(7), int64(12), object(9)\n",
      "memory usage: 20.5+ KB\n"
     ]
    }
   ],
   "source": [
    "cars_multi.info()"
   ]
  },
  {
   "cell_type": "code",
   "execution_count": 14,
   "metadata": {},
   "outputs": [
    {
     "data": {
      "text/plain": [
       "Index(['Unnamed: 0', 'Manufacturer', 'Model', 'Type', 'Min.Price', 'Price',\n",
       "       'Max.Price', 'MPG.city', 'MPG.highway', 'AirBags', 'DriveTrain',\n",
       "       'Cylinders', 'EngineSize', 'Horsepower', 'RPM', 'Rev.per.mile',\n",
       "       'Man.trans.avail', 'Fuel.tank.capacity', 'Passengers', 'Length',\n",
       "       'Wheelbase', 'Width', 'Turn.circle', 'Rear.seat.room', 'Luggage.room',\n",
       "       'Weight', 'Origin', 'Make'],\n",
       "      dtype='object')"
      ]
     },
     "execution_count": 14,
     "metadata": {},
     "output_type": "execute_result"
    }
   ],
   "source": [
    "cars_multi.columns"
   ]
  },
  {
   "cell_type": "code",
   "execution_count": 29,
   "metadata": {},
   "outputs": [
    {
     "data": {
      "text/plain": [
       "Acura Integra               1\n",
       "Mercury Capri               1\n",
       "Oldsmobile Cutlass_Ciera    1\n",
       "Oldsmobile Achieva          1\n",
       "Nissan Maxima               1\n",
       "                           ..\n",
       "Eagle Vision                1\n",
       "Eagle Summit                1\n",
       "Dodge Stealth               1\n",
       "Dodge Dynasty               1\n",
       "Volvo 850                   1\n",
       "Name: Make, Length: 93, dtype: int64"
      ]
     },
     "execution_count": 29,
     "metadata": {},
     "output_type": "execute_result"
    }
   ],
   "source": [
    "cars_multi['Make'].value_counts()"
   ]
  },
  {
   "cell_type": "code",
   "execution_count": 30,
   "metadata": {},
   "outputs": [],
   "source": [
    "cars_multi.drop('Unnamed: 0', axis = 1, inplace = True)\n",
    "cars_multi.drop('Make', axis=1, inplace=True)"
   ]
  },
  {
   "cell_type": "code",
   "execution_count": 92,
   "metadata": {},
   "outputs": [
    {
     "data": {
      "text/plain": [
       "array([11., 15., 14., 17., 13., 16., 21., 18.,  0., 20., 12., 10.,  8.,\n",
       "        9., 19., 22.,  6.])"
      ]
     },
     "execution_count": 92,
     "metadata": {},
     "output_type": "execute_result"
    }
   ],
   "source": [
    "cars_multi['Rear.seat.room'] = cars_multi['Rear.seat.room'].fillna(0)\n",
    "cars_multi['Luggage.room'] = cars_multi['Luggage.room'].fillna(0)\n",
    "cars_multi['Luggage.room'].unique()"
   ]
  },
  {
   "cell_type": "code",
   "execution_count": 93,
   "metadata": {},
   "outputs": [],
   "source": [
    "x = cars_multi.copy()\n",
    "x.drop('MPG.highway', axis=1, inplace=True)\n",
    "x = pd.get_dummies(x, drop_first=True)"
   ]
  },
  {
   "cell_type": "code",
   "execution_count": 94,
   "metadata": {},
   "outputs": [],
   "source": [
    "y = cars_multi['MPG.highway'].copy()"
   ]
  },
  {
   "cell_type": "code",
   "execution_count": 101,
   "metadata": {},
   "outputs": [],
   "source": [
    "x_train, x_test, y_train, y_test = train_test_split(\n",
    "    x, y, test_size=0.25, random_state = 0)"
   ]
  },
  {
   "cell_type": "code",
   "execution_count": 135,
   "metadata": {},
   "outputs": [
    {
     "data": {
      "text/plain": [
       "0.8279098269289377"
      ]
     },
     "execution_count": 135,
     "metadata": {},
     "output_type": "execute_result"
    }
   ],
   "source": [
    "reg = LinearRegression().fit(x_train, y_train)\n",
    "reg.score(x_test, y_test)"
   ]
  },
  {
   "cell_type": "code",
   "execution_count": 136,
   "metadata": {},
   "outputs": [
    {
     "data": {
      "text/plain": [
       "array([26.86377131, 36.00063493, 23.77521616, 19.99763177, 27.41675556,\n",
       "       26.65938867, 34.98683708, 32.76064188, 28.62538221, 27.8628773 ,\n",
       "       34.52518373, 25.49622917, 24.42573132, 27.28641597, 34.74374244,\n",
       "       29.89349421, 27.2831415 , 35.07041703, 30.70836831, 26.38072326,\n",
       "       27.9881937 , 31.59124718, 28.75635507, 27.8824849 ])"
      ]
     },
     "execution_count": 136,
     "metadata": {},
     "output_type": "execute_result"
    }
   ],
   "source": [
    "y_predict = reg.predict(x_test)\n",
    "y_predict"
   ]
  },
  {
   "cell_type": "code",
   "execution_count": 138,
   "metadata": {},
   "outputs": [
    {
     "data": {
      "text/plain": [
       "Text(0.5, 1.0, 'Predicted Values vs Actual Values')"
      ]
     },
     "execution_count": 138,
     "metadata": {},
     "output_type": "execute_result"
    },
    {
     "data": {
      "image/png": "[encoded data removed]",
      "text/plain": [
       "<Figure size 432x288 with 1 Axes>"
      ]
     },
     "metadata": {},
     "output_type": "display_data"
    }
   ],
   "source": [
    "plt.scatter(y_test, y_predict)\n",
    "plt.xlabel('Actual Valeues')\n",
    "plt.ylabel('Predicted Values')\n",
    "plt.title('Predicted Values vs Actual Values')"
   ]
  },
  {
   "cell_type": "code",
   "execution_count": 139,
   "metadata": {},
   "outputs": [],
   "source": [
    "residuals = y_test - y_predict"
   ]
  },
  {
   "cell_type": "code",
   "execution_count": 140,
   "metadata": {},
   "outputs": [
    {
     "data": {
      "text/plain": [
       "Text(0.5, 1.0, 'Residual Plot')"
      ]
     },
     "execution_count": 140,
     "metadata": {},
     "output_type": "execute_result"
    },
    {
     "data": {
      "image/png": "[encoded data removed]",
      "text/plain": [
       "<Figure size 432x288 with 1 Axes>"
      ]
     },
     "metadata": {},
     "output_type": "display_data"
    }
   ],
   "source": [
    "plt.scatter(y_predict, residuals)\n",
    "plt.xlabel('Predicted Values')\n",
    "plt.ylabel('Residuals')\n",
    "plt.title('Residual Plot')"
   ]
  },
  {
   "cell_type": "code",
   "execution_count": 131,
   "metadata": {},
   "outputs": [
    {
     "data": {
      "text/plain": [
       "array([ 4.08259870e-03, -2.17044140e-02, -7.22096217e-02,  4.96402342e-02,\n",
       "        8.67207281e-01, -9.22814478e-02,  2.11416998e-03, -1.28330913e-04,\n",
       "       -7.69517483e-04, -4.36812160e-02, -4.56831304e-01,  4.36609279e-02,\n",
       "        1.02243188e-01,  3.15578488e-02, -8.15012064e-04, -9.51077474e-02,\n",
       "        1.42846334e-01, -1.37439389e-03,  2.58466804e-01,  6.50158707e-01,\n",
       "        5.00726886e-01,  7.35096863e-01,  8.28655137e-01,  2.14052928e-03,\n",
       "       -6.41101401e-01, -7.10347750e-01, -6.12457717e-01, -7.40039437e-01,\n",
       "        5.73656944e-01, -2.98609278e-01,  5.31121444e-02, -3.38974476e-01,\n",
       "       -3.48230868e-01,  1.16737282e-01,  8.07278918e-01,  5.09651023e-01,\n",
       "       -1.20111508e+00, -8.14374652e-01, -6.60318963e-01, -7.60815558e-03,\n",
       "        1.41979690e-01,  5.65581917e-01, -3.86354736e-01,  9.80035736e-01,\n",
       "       -2.10484001e-01,  3.36457282e-02, -1.17882936e-01,  6.88293601e-01,\n",
       "        2.51658044e-01,  1.06344380e+00, -1.61014923e-01, -5.53792665e-01,\n",
       "        9.94701907e-02,  6.50157853e-01,  2.12089336e-01,  4.12672393e-01,\n",
       "       -1.22811645e-01, -3.86354975e-01, -3.48368202e-01, -2.56344430e-01,\n",
       "        1.75170836e-01, -2.61273302e-01, -3.40392111e-02,  2.20892658e-01,\n",
       "        7.55164434e-02, -2.11180641e-01, -1.10220437e+00, -3.81676591e-01,\n",
       "       -3.39440370e-02,  1.19821621e+00,  3.24251216e-02,  6.60642383e-01,\n",
       "       -4.73218912e-01, -4.04176533e-01,  2.14183653e-03,  4.26235278e-01,\n",
       "       -1.09730382e-01,  5.10299718e-01, -3.56929896e-02, -9.89108604e-02,\n",
       "        4.99242495e-03,  9.04035535e-02,  1.06334587e-01, -6.50039836e-02,\n",
       "       -1.75070104e-01, -4.18190766e-02,  2.65193008e-01,  2.83328912e-01,\n",
       "        6.01758084e-01, -5.00949246e-01, -7.28439738e-01, -8.84817589e-01,\n",
       "       -1.25252207e-02,  5.45374692e-01, -6.32909056e-01, -1.03861860e-01,\n",
       "       -1.56885407e-01, -1.09163969e-02,  1.41979402e-01, -5.37239371e-01,\n",
       "        1.17540969e+00,  1.28860657e-01,  1.90630414e-01, -4.52096680e-01,\n",
       "       -3.90197575e-01, -3.08098703e-01, -1.95871443e-01,  1.54450642e-01,\n",
       "       -6.22215385e-01,  4.72004723e-01, -7.49370386e-01,  2.29138725e-01,\n",
       "        7.53598494e-01,  5.22977633e-01, -7.94570643e-02, -9.57638774e-01,\n",
       "        3.71513438e-01, -3.38972411e-01,  7.55380960e-01, -3.02462979e-02,\n",
       "       -7.98370159e-02, -2.08936377e-01, -3.06411740e-01,  9.80035918e-01,\n",
       "        8.05762285e-01, -5.32209246e-01,  6.28759968e-01,  1.70423017e-01,\n",
       "       -1.06861573e-01, -3.07536113e-01, -4.10390871e-01,  1.42812854e-01,\n",
       "        1.01651808e-01, -7.84795532e-01, -1.85286097e-01,  3.36453401e-02,\n",
       "        7.35142960e-01, -6.43784733e-01,  1.40329851e-01, -3.09499108e-01,\n",
       "        1.72336807e-01, -1.03221693e-01, -2.08557571e-01, -2.41734285e-01,\n",
       "       -1.95774746e-01,  1.33879665e-01, -2.24853926e-01, -9.80291820e-02,\n",
       "        1.57942299e-01, -4.14430649e-01,  9.57047351e-02, -8.82764063e-02,\n",
       "       -1.46161755e-01, -3.25754253e-01, -3.02462979e-02,  5.84070692e-02,\n",
       "        4.17167004e-02, -4.52096680e-01,  3.81281762e-01, -1.22811479e-01,\n",
       "        6.50157849e-01,  6.60642208e-01,  1.28860657e-01, -7.98370159e-02,\n",
       "       -2.08936377e-01,  1.06334586e-01,  6.28759968e-01, -3.40390845e-02,\n",
       "        7.55164611e-02, -3.81676553e-01,  1.19821619e+00,  5.10299663e-01,\n",
       "       -3.56931971e-02, -3.08098703e-01, -1.95871443e-01,  2.14195224e-03,\n",
       "       -1.03861860e-01, -5.37239371e-01, -3.39441694e-02, -4.04176646e-01,\n",
       "       -1.75070154e-01,  1.70423017e-01, -4.10390871e-01,  1.42812854e-01,\n",
       "       -7.84795532e-01,  1.72336807e-01,  1.75170743e-01,  4.99243351e-03,\n",
       "        6.01758107e-01, -8.84817613e-01,  2.29138725e-01, -9.57638774e-01,\n",
       "        7.35142960e-01, -6.43784733e-01,  4.72004723e-01,  1.01651808e-01,\n",
       "       -3.48367985e-01, -4.73219118e-01,  5.22977633e-01,  2.83328781e-01,\n",
       "       -7.28439833e-01,  8.05762285e-01, -3.07536113e-01, -3.38972411e-01,\n",
       "       -4.18191737e-02, -3.06411740e-01,  4.26235287e-01, -3.09499108e-01,\n",
       "        9.94702746e-02,  2.12089151e-01,  1.54450642e-01,  3.71513438e-01,\n",
       "       -3.02462979e-02,  1.06344356e+00, -5.53792702e-01, -1.10220441e+00,\n",
       "       -9.89108794e-02, -6.50039150e-02, -7.49370386e-01, -2.61273187e-01,\n",
       "       -6.22215385e-01,  7.55380960e-01, -5.32209246e-01, -2.56344434e-01,\n",
       "        9.04035876e-02,  2.65193076e-01, -1.06861573e-01,  1.41979402e-01,\n",
       "        2.20892697e-01, -1.25252207e-02, -6.32909056e-01,  1.17540969e+00,\n",
       "       -1.85286097e-01, -3.86354564e-01,  9.80035918e-01, -1.09163969e-02,\n",
       "        1.90630414e-01, -3.90197575e-01,  3.36453401e-02, -2.11180747e-01,\n",
       "        3.24250741e-02, -7.94570643e-02,  1.40329851e-01, -1.09730581e-01,\n",
       "       -5.00949227e-01,  5.45374692e-01,  7.53598494e-01, -1.61014747e-01,\n",
       "        4.12672774e-01])"
      ]
     },
     "execution_count": 131,
     "metadata": {},
     "output_type": "execute_result"
    }
   ],
   "source": [
    "reg.coef_"
   ]
  }
 ],
 "metadata": {
  "interpreter": {
   "hash": "3a555e031f921cec308b85ca21a0e976ded3f2bd321f13a8ca2fe088965d48db"
  },
  "kernelspec": {
   "display_name": "Python 3.9.9 64-bit (windows store)",
   "language": "python",
   "name": "python3"
  },
  "language_info": {
   "codemirror_mode": {
    "name": "ipython",
    "version": 3
   },
   "file_extension": ".py",
   "mimetype": "text/x-python",
   "name": "python",
   "nbconvert_exporter": "python",
   "pygments_lexer": "ipython3",
   "version": "3.9.9"
  },
  "orig_nbformat": 4
 },
 "nbformat": 4,
 "nbformat_minor": 2
}

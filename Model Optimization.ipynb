{
 "cells": [
  {
   "cell_type": "code",
   "execution_count": 2,
   "metadata": {},
   "outputs": [],
   "source": [
    "import pandas as pd\n",
    "import seaborn as sns\n",
    "import matplotlib.pyplot as plt\n",
    "import scipy.stats\n",
    "from sklearn.model_selection import train_test_split\n",
    "from sklearn.linear_model import LassoCV\n",
    "from sklearn.linear_model import LinearRegression\n",
    "from sklearn.metrics import median_absolute_error\n",
    "import numpy as np"
   ]
  },
  {
   "cell_type": "code",
   "execution_count": 3,
   "metadata": {},
   "outputs": [],
   "source": [
    "df = pd.read_csv('LASSO-data-set.csv')"
   ]
  },
  {
   "cell_type": "code",
   "execution_count": 6,
   "metadata": {},
   "outputs": [],
   "source": [
    "x = df.copy()\n",
    "x.drop('score', axis=1, inplace=True)"
   ]
  },
  {
   "cell_type": "code",
   "execution_count": 7,
   "metadata": {},
   "outputs": [],
   "source": [
    "y = df.copy()\n",
    "y = y.score"
   ]
  },
  {
   "cell_type": "code",
   "execution_count": 8,
   "metadata": {},
   "outputs": [],
   "source": [
    "x_train, x_test, y_train, y_test = train_test_split(\n",
    "    x, y, test_size=0.25, random_state = 0)"
   ]
  },
  {
   "cell_type": "code",
   "execution_count": 40,
   "metadata": {},
   "outputs": [],
   "source": [
    "reg = LassoCV().fit(x_train, y_train)"
   ]
  },
  {
   "cell_type": "code",
   "execution_count": 41,
   "metadata": {},
   "outputs": [
    {
     "data": {
      "text/plain": [
       "1.074923657765412"
      ]
     },
     "execution_count": 41,
     "metadata": {},
     "output_type": "execute_result"
    }
   ],
   "source": [
    "reg.alpha_"
   ]
  },
  {
   "cell_type": "code",
   "execution_count": 42,
   "metadata": {},
   "outputs": [
    {
     "data": {
      "text/plain": [
       "array([1.07492366e+03, 1.00247740e+03, 9.34913779e+02, 8.71903720e+02,\n",
       "       8.13140327e+02, 7.58337390e+02, 7.07227988e+02, 6.59563189e+02,\n",
       "       6.15110838e+02, 5.73654426e+02, 5.34992037e+02, 4.98935365e+02,\n",
       "       4.65308791e+02, 4.33948536e+02, 4.04701857e+02, 3.77426306e+02,\n",
       "       3.51989036e+02, 3.28266153e+02, 3.06142113e+02, 2.85509159e+02,\n",
       "       2.66266798e+02, 2.48321307e+02, 2.31585282e+02, 2.15977209e+02,\n",
       "       2.01421068e+02, 1.87845962e+02, 1.75185773e+02, 1.63378838e+02,\n",
       "       1.52367651e+02, 1.42098581e+02, 1.32521613e+02, 1.23590100e+02,\n",
       "       1.15260540e+02, 1.07492366e+02, 1.00247740e+02, 9.34913779e+01,\n",
       "       8.71903720e+01, 8.13140327e+01, 7.58337390e+01, 7.07227988e+01,\n",
       "       6.59563189e+01, 6.15110838e+01, 5.73654426e+01, 5.34992037e+01,\n",
       "       4.98935365e+01, 4.65308791e+01, 4.33948536e+01, 4.04701857e+01,\n",
       "       3.77426306e+01, 3.51989036e+01, 3.28266153e+01, 3.06142113e+01,\n",
       "       2.85509159e+01, 2.66266798e+01, 2.48321307e+01, 2.31585282e+01,\n",
       "       2.15977209e+01, 2.01421068e+01, 1.87845962e+01, 1.75185773e+01,\n",
       "       1.63378838e+01, 1.52367651e+01, 1.42098581e+01, 1.32521613e+01,\n",
       "       1.23590100e+01, 1.15260540e+01, 1.07492366e+01, 1.00247740e+01,\n",
       "       9.34913779e+00, 8.71903720e+00, 8.13140327e+00, 7.58337390e+00,\n",
       "       7.07227988e+00, 6.59563189e+00, 6.15110838e+00, 5.73654426e+00,\n",
       "       5.34992037e+00, 4.98935365e+00, 4.65308791e+00, 4.33948536e+00,\n",
       "       4.04701857e+00, 3.77426306e+00, 3.51989036e+00, 3.28266153e+00,\n",
       "       3.06142113e+00, 2.85509159e+00, 2.66266798e+00, 2.48321307e+00,\n",
       "       2.31585282e+00, 2.15977209e+00, 2.01421068e+00, 1.87845962e+00,\n",
       "       1.75185773e+00, 1.63378838e+00, 1.52367651e+00, 1.42098581e+00,\n",
       "       1.32521613e+00, 1.23590100e+00, 1.15260540e+00, 1.07492366e+00])"
      ]
     },
     "execution_count": 42,
     "metadata": {},
     "output_type": "execute_result"
    }
   ],
   "source": [
    "reg.alphas_"
   ]
  },
  {
   "cell_type": "code",
   "execution_count": 43,
   "metadata": {},
   "outputs": [],
   "source": [
    "predict = reg.predict(x_test)"
   ]
  },
  {
   "cell_type": "code",
   "execution_count": 44,
   "metadata": {},
   "outputs": [
    {
     "data": {
      "text/plain": [
       "Text(0.5, 1.0, 'Predicted vs Test Values')"
      ]
     },
     "execution_count": 44,
     "metadata": {},
     "output_type": "execute_result"
    },
    {
     "data": {
      "image/png": "[encoded data removed]",
      "text/plain": [
       "<Figure size 432x288 with 1 Axes>"
      ]
     },
     "metadata": {
      "needs_background": "light"
     },
     "output_type": "display_data"
    }
   ],
   "source": [
    "plt.scatter(y_test, predict)\n",
    "plt.xlabel('Test Values')\n",
    "plt.ylabel('Predicted Values')\n",
    "plt.title('Predicted vs Test Values')"
   ]
  },
  {
   "cell_type": "code",
   "execution_count": 45,
   "metadata": {},
   "outputs": [],
   "source": [
    "residuals = predict-y_test"
   ]
  },
  {
   "cell_type": "code",
   "execution_count": 46,
   "metadata": {},
   "outputs": [
    {
     "data": {
      "text/plain": [
       "Text(0.5, 1.0, 'Residuals vs Predicted Values')"
      ]
     },
     "execution_count": 46,
     "metadata": {},
     "output_type": "execute_result"
    },
    {
     "data": {
      "image/png": "[encoded data removed]",
      "text/plain": [
       "<Figure size 432x288 with 1 Axes>"
      ]
     },
     "metadata": {
      "needs_background": "light"
     },
     "output_type": "display_data"
    }
   ],
   "source": [
    "plt.scatter(predict, residuals)\n",
    "plt.xlabel('Predicted Values')\n",
    "plt.ylabel('Residuals')\n",
    "plt.title('Residuals vs Predicted Values')"
   ]
  },
  {
   "cell_type": "code",
   "execution_count": 47,
   "metadata": {},
   "outputs": [
    {
     "data": {
      "text/plain": [
       "0.9999091681500318"
      ]
     },
     "execution_count": 47,
     "metadata": {},
     "output_type": "execute_result"
    }
   ],
   "source": [
    "reg.score(x_test, y_test)"
   ]
  },
  {
   "cell_type": "code",
   "execution_count": 48,
   "metadata": {},
   "outputs": [
    {
     "data": {
      "text/plain": [
       "0.6512845529578044"
      ]
     },
     "execution_count": 48,
     "metadata": {},
     "output_type": "execute_result"
    }
   ],
   "source": [
    "median_absolute_error(y_test, predict)"
   ]
  },
  {
   "cell_type": "code",
   "execution_count": 42,
   "metadata": {},
   "outputs": [
    {
     "data": {
      "text/plain": [
       "array([ 0.00000000e+00, -6.72175977e-04, -0.00000000e+00,  0.00000000e+00,\n",
       "        0.00000000e+00, -5.37513507e-03,  3.97959505e+00, -4.99272206e+00,\n",
       "        0.00000000e+00,  0.00000000e+00,  1.98746470e-02,  5.97764196e+00,\n",
       "       -0.00000000e+00, -6.06142817e-03, -0.00000000e+00, -6.86831157e+00])"
      ]
     },
     "execution_count": 42,
     "metadata": {},
     "output_type": "execute_result"
    }
   ],
   "source": [
    "reg.coef_"
   ]
  },
  {
   "cell_type": "code",
   "execution_count": 43,
   "metadata": {},
   "outputs": [
    {
     "data": {
      "text/plain": [
       "-66.22924695707843"
      ]
     },
     "execution_count": 43,
     "metadata": {},
     "output_type": "execute_result"
    }
   ],
   "source": [
    "reg.intercept_"
   ]
  },
  {
   "cell_type": "code",
   "execution_count": 58,
   "metadata": {},
   "outputs": [
    {
     "data": {
      "text/plain": [
       "0.999916814568704"
      ]
     },
     "execution_count": 58,
     "metadata": {},
     "output_type": "execute_result"
    }
   ],
   "source": [
    "regL = LinearRegression().fit(x_train, y_train)\n",
    "regL.score(x_test, y_test)"
   ]
  },
  {
   "cell_type": "code",
   "execution_count": 59,
   "metadata": {},
   "outputs": [],
   "source": [
    "predictL = regL.predict(x_test)"
   ]
  },
  {
   "cell_type": "code",
   "execution_count": 62,
   "metadata": {},
   "outputs": [
    {
     "data": {
      "text/plain": [
       "Text(0.5, 1.0, 'Linear Regression: Predicted vs Actual Values')"
      ]
     },
     "execution_count": 62,
     "metadata": {},
     "output_type": "execute_result"
    },
    {
     "data": {
      "image/png": "[encoded data removed]",
      "text/plain": [
       "<Figure size 432x288 with 1 Axes>"
      ]
     },
     "metadata": {
      "needs_background": "light"
     },
     "output_type": "display_data"
    }
   ],
   "source": [
    "plt.scatter(y_test, predictL)\n",
    "plt.xlabel('Test Values')\n",
    "plt.ylabel('Predicted Values')\n",
    "plt.title('Linear Regression: Predicted vs Actual Values')"
   ]
  },
  {
   "cell_type": "code",
   "execution_count": 65,
   "metadata": {},
   "outputs": [
    {
     "data": {
      "text/plain": [
       "Text(0.5, 1.0, 'Linear Regression Resdual Plot')"
      ]
     },
     "execution_count": 65,
     "metadata": {},
     "output_type": "execute_result"
    },
    {
     "data": {
      "image/png": "[encoded data removed]",
      "text/plain": [
       "<Figure size 432x288 with 1 Axes>"
      ]
     },
     "metadata": {
      "needs_background": "light"
     },
     "output_type": "display_data"
    }
   ],
   "source": [
    "residuals = predictL - y_test\n",
    "plt.scatter(predictL, residuals)\n",
    "plt.xlabel('Predicted Values')\n",
    "plt.ylabel('Residuals')\n",
    "plt.title('Linear Regression Resdual Plot')"
   ]
  },
  {
   "cell_type": "code",
   "execution_count": 66,
   "metadata": {},
   "outputs": [
    {
     "data": {
      "text/plain": [
       "0.6903263322636519"
      ]
     },
     "execution_count": 66,
     "metadata": {},
     "output_type": "execute_result"
    }
   ],
   "source": [
    "median_absolute_error(y_test, predictL)"
   ]
  },
  {
   "cell_type": "code",
   "execution_count": 67,
   "metadata": {},
   "outputs": [
    {
     "data": {
      "text/plain": [
       "array([-4.63360466e-03, -1.29891462e-03,  6.30686633e-03,  7.44404105e-05,\n",
       "        1.66508660e-04,  1.71831565e-04,  4.00795402e+00, -5.01123757e+00,\n",
       "       -1.23496908e-02, -1.97063709e-03,  9.61775544e-03,  6.00896919e+00,\n",
       "        9.34354856e-03, -6.32294101e-03,  2.38040866e-02, -7.00771148e+00])"
      ]
     },
     "execution_count": 67,
     "metadata": {},
     "output_type": "execute_result"
    }
   ],
   "source": [
    "regL.coef_"
   ]
  }
 ],
 "metadata": {
  "interpreter": {
   "hash": "3a555e031f921cec308b85ca21a0e976ded3f2bd321f13a8ca2fe088965d48db"
  },
  "kernelspec": {
   "display_name": "Python 3.9.9 64-bit (windows store)",
   "language": "python",
   "name": "python3"
  },
  "language_info": {
   "codemirror_mode": {
    "name": "ipython",
    "version": 3
   },
   "file_extension": ".py",
   "mimetype": "text/x-python",
   "name": "python",
   "nbconvert_exporter": "python",
   "pygments_lexer": "ipython3",
   "version": "3.9.9"
  },
  "orig_nbformat": 4
 },
 "nbformat": 4,
 "nbformat_minor": 2
}
